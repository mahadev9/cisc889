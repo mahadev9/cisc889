{
 "cells": [
  {
   "cell_type": "code",
   "execution_count": 1,
   "metadata": {},
   "outputs": [],
   "source": [
    "import numpy as np\n",
    "import pandas as pd\n",
    "import matplotlib.pyplot as plt"
   ]
  },
  {
   "cell_type": "code",
   "execution_count": 2,
   "metadata": {},
   "outputs": [],
   "source": [
    "headers = ['race_id', 'circuit_id', 'year', 'round', 'race_length', 'driver_id', 'lap', 'position', 'milliseconds', 'pit_stop_count', 'pit_stop_milliseconds', 'pit_stop', 'rating', 'fcy', 'battle', 'next_lap_time', 'fitted_tire', 'tire_age', 'starting_position', 'gap_from_the_car_in_front', 'gap_from_the_following_car', 'lap_time_of_the_car_in_front', 'lap_time_of_the_following_car', 'drs']"
   ]
  },
  {
   "cell_type": "code",
   "execution_count": 3,
   "metadata": {},
   "outputs": [
    {
     "data": {
      "text/plain": [
       "(897, 24)"
      ]
     },
     "execution_count": 3,
     "metadata": {},
     "output_type": "execute_result"
    }
   ],
   "source": [
    "file_path = 'data/new/2020_british_data.csv'\n",
    "\n",
    "# Load data\n",
    "dataFrame = pd.read_csv(file_path, names=headers, header=0)\n",
    "dataFrame.shape"
   ]
  },
  {
   "cell_type": "code",
   "execution_count": 4,
   "metadata": {},
   "outputs": [
    {
     "data": {
      "text/html": [
       "<div>\n",
       "<style scoped>\n",
       "    .dataframe tbody tr th:only-of-type {\n",
       "        vertical-align: middle;\n",
       "    }\n",
       "\n",
       "    .dataframe tbody tr th {\n",
       "        vertical-align: top;\n",
       "    }\n",
       "\n",
       "    .dataframe thead th {\n",
       "        text-align: right;\n",
       "    }\n",
       "</style>\n",
       "<table border=\"1\" class=\"dataframe\">\n",
       "  <thead>\n",
       "    <tr style=\"text-align: right;\">\n",
       "      <th></th>\n",
       "      <th>race_length</th>\n",
       "      <th>driver_id</th>\n",
       "      <th>lap</th>\n",
       "      <th>position</th>\n",
       "      <th>pit_stop_count</th>\n",
       "      <th>pit_stop</th>\n",
       "      <th>fitted_tire</th>\n",
       "      <th>starting_position</th>\n",
       "    </tr>\n",
       "  </thead>\n",
       "  <tbody>\n",
       "    <tr>\n",
       "      <th>0</th>\n",
       "      <td>52.0</td>\n",
       "      <td>44.0</td>\n",
       "      <td>1.0</td>\n",
       "      <td>1.0</td>\n",
       "      <td>1.0</td>\n",
       "      <td>0.0</td>\n",
       "      <td>MEDIUM</td>\n",
       "      <td>1.0</td>\n",
       "    </tr>\n",
       "    <tr>\n",
       "      <th>1</th>\n",
       "      <td>52.0</td>\n",
       "      <td>44.0</td>\n",
       "      <td>2.0</td>\n",
       "      <td>1.0</td>\n",
       "      <td>1.0</td>\n",
       "      <td>0.0</td>\n",
       "      <td>MEDIUM</td>\n",
       "      <td>1.0</td>\n",
       "    </tr>\n",
       "    <tr>\n",
       "      <th>2</th>\n",
       "      <td>52.0</td>\n",
       "      <td>44.0</td>\n",
       "      <td>3.0</td>\n",
       "      <td>1.0</td>\n",
       "      <td>1.0</td>\n",
       "      <td>0.0</td>\n",
       "      <td>MEDIUM</td>\n",
       "      <td>1.0</td>\n",
       "    </tr>\n",
       "    <tr>\n",
       "      <th>3</th>\n",
       "      <td>52.0</td>\n",
       "      <td>44.0</td>\n",
       "      <td>4.0</td>\n",
       "      <td>1.0</td>\n",
       "      <td>1.0</td>\n",
       "      <td>0.0</td>\n",
       "      <td>MEDIUM</td>\n",
       "      <td>1.0</td>\n",
       "    </tr>\n",
       "    <tr>\n",
       "      <th>4</th>\n",
       "      <td>52.0</td>\n",
       "      <td>44.0</td>\n",
       "      <td>5.0</td>\n",
       "      <td>1.0</td>\n",
       "      <td>1.0</td>\n",
       "      <td>0.0</td>\n",
       "      <td>MEDIUM</td>\n",
       "      <td>1.0</td>\n",
       "    </tr>\n",
       "  </tbody>\n",
       "</table>\n",
       "</div>"
      ],
      "text/plain": [
       "   race_length  driver_id  lap  position  pit_stop_count  pit_stop  \\\n",
       "0         52.0       44.0  1.0       1.0             1.0       0.0   \n",
       "1         52.0       44.0  2.0       1.0             1.0       0.0   \n",
       "2         52.0       44.0  3.0       1.0             1.0       0.0   \n",
       "3         52.0       44.0  4.0       1.0             1.0       0.0   \n",
       "4         52.0       44.0  5.0       1.0             1.0       0.0   \n",
       "\n",
       "  fitted_tire  starting_position  \n",
       "0      MEDIUM                1.0  \n",
       "1      MEDIUM                1.0  \n",
       "2      MEDIUM                1.0  \n",
       "3      MEDIUM                1.0  \n",
       "4      MEDIUM                1.0  "
      ]
     },
     "execution_count": 4,
     "metadata": {},
     "output_type": "execute_result"
    }
   ],
   "source": [
    "dataFrame = dataFrame.drop(columns=['circuit_id', 'year', 'race_id', 'round', 'pit_stop_milliseconds', 'milliseconds', 'rating', 'fcy', 'battle', 'next_lap_time', 'tire_age', 'gap_from_the_car_in_front', 'gap_from_the_following_car', 'lap_time_of_the_car_in_front', 'lap_time_of_the_following_car', 'drs'])\n",
    "dataFrame['race_length'] = dataFrame['race_length'].astype(float)\n",
    "dataFrame['driver_id'] = dataFrame['driver_id'].astype(float)\n",
    "dataFrame['lap'] = dataFrame['lap'].astype(float)\n",
    "dataFrame['position'] = dataFrame['position'].astype(float)\n",
    "dataFrame['pit_stop_count'] = dataFrame['pit_stop_count'].astype(float)\n",
    "dataFrame['pit_stop'] = dataFrame['pit_stop'].astype(float)\n",
    "dataFrame['fitted_tire'] = dataFrame['fitted_tire'].astype(str)\n",
    "dataFrame['starting_position'] = dataFrame['starting_position'].astype(float)\n",
    "dataFrame.head()"
   ]
  },
  {
   "cell_type": "code",
   "execution_count": 5,
   "metadata": {},
   "outputs": [],
   "source": [
    "race_length = dataFrame['race_length'].unique()[0]\n",
    "top_5_drivers = dataFrame[dataFrame['position'].isin([1, 2, 3, 4, 5]) & (dataFrame['lap'] == race_length)]['driver_id'].unique()"
   ]
  },
  {
   "cell_type": "code",
   "execution_count": 6,
   "metadata": {},
   "outputs": [
    {
     "data": {
      "text/plain": [
       "{44: [{'MEDIUM': 13}, {'HARD': 39}],\n",
       " 33: [{'MEDIUM': 13}, {'HARD': 37}, {'SOFT': 2}],\n",
       " 16: [{'MEDIUM': 13}, {'HARD': 39}],\n",
       " 3: [{'SOFT': 12}, {'HARD': 40}],\n",
       " 4: [{'SOFT': 12}, {'HARD': 40}]}"
      ]
     },
     "execution_count": 6,
     "metadata": {},
     "output_type": "execute_result"
    }
   ],
   "source": [
    "drivers_data = {}\n",
    "for driver_id in top_5_drivers:\n",
    "    data = dataFrame[(dataFrame['driver_id'] == driver_id)]\n",
    "    tire_data = []\n",
    "    count = 1\n",
    "    for i in range(1, len(data)):\n",
    "        if data['pit_stop'].iloc[i] == 1:\n",
    "            tire_data.append({ data['fitted_tire'].iloc[i-1]: count })\n",
    "            count = 1\n",
    "        else:\n",
    "            count += 1\n",
    "    tire_data.append({ data['fitted_tire'].iloc[-1]: count })\n",
    "    drivers_data[int(driver_id)] = tire_data\n",
    "\n",
    "drivers_data"
   ]
  },
  {
   "cell_type": "code",
   "execution_count": 7,
   "metadata": {},
   "outputs": [
    {
     "name": "stderr",
     "output_type": "stream",
     "text": [
      "No artists with labels found to put in legend.  Note that artists whose label start with an underscore are ignored when legend() is called with no argument.\n"
     ]
    },
    {
     "data": {
      "image/png": "[encoded data removed]",
      "text/plain": [
       "<Figure size 640x480 with 1 Axes>"
      ]
     },
     "metadata": {},
     "output_type": "display_data"
    }
   ],
   "source": [
    "color_map = {'SOFT': 'red', 'MEDIUM': 'yellow', 'HARD': 'grey', 'INTER': 'green', 'WET': 'blue'}\n",
    "\n",
    "plt.figure()\n",
    "count = len(drivers_data.keys()) - 1\n",
    "for driver_id, data in drivers_data.items():\n",
    "    left = 0\n",
    "    for i, tire in enumerate(data):\n",
    "        for key, value in tire.items():\n",
    "            plt.barh(count, value, left=left, color=color_map[key])\n",
    "            plt.text(left + value, count, value, ha='center', va='center')\n",
    "            left += value\n",
    "    count -= 1\n",
    "\n",
    "yticks = np.arange(len(drivers_data.keys()))\n",
    "plt.yticks(yticks, reversed(list(drivers_data.keys())))\n",
    "\n",
    "plt.xlabel('Number of Laps')\n",
    "plt.ylabel('Driver ID')\n",
    "plt.title('Pit Stop for British Grand Prix 2020 - Top 5 Drivers')\n",
    "plt.legend(loc='upper right')\n",
    "plt.show()"
   ]
  },
  {
   "cell_type": "code",
   "execution_count": 8,
   "metadata": {},
   "outputs": [
    {
     "name": "stderr",
     "output_type": "stream",
     "text": [
      "No artists with labels found to put in legend.  Note that artists whose label start with an underscore are ignored when legend() is called with no argument.\n"
     ]
    },
    {
     "data": {
      "image/png": "[encoded data removed]",
      "text/plain": [
       "<Figure size 800x100 with 1 Axes>"
      ]
     },
     "metadata": {},
     "output_type": "display_data"
    }
   ],
   "source": [
    "predicted_data = {\n",
    "    1: [\n",
    "        {'MEDIUM': 20},\n",
    "        {'HARD': 32}\n",
    "    ]\n",
    "}\n",
    "\n",
    "plt.figure(figsize=(8, 1))\n",
    "count = len(predicted_data.keys()) - 1\n",
    "for driver_id, data in predicted_data.items():\n",
    "    left = 0\n",
    "    for i, tire in enumerate(data):\n",
    "        for key, value in tire.items():\n",
    "            plt.barh(count, value, left=left, color=color_map[key])\n",
    "            plt.text(left + value, count, value, ha='center', va='center')\n",
    "            left += value\n",
    "    count -= 1\n",
    "\n",
    "yticks = np.arange(len(predicted_data.keys()))\n",
    "plt.yticks(yticks, reversed(list(predicted_data.keys())))\n",
    "\n",
    "plt.xlabel('Number of Laps')\n",
    "plt.ylabel('Driver ID')\n",
    "plt.title('Predicted Strategy Guide for British Grand Prix')\n",
    "plt.legend(loc='upper right')\n",
    "plt.show()"
   ]
  },
  {
   "cell_type": "code",
   "execution_count": null,
   "metadata": {},
   "outputs": [],
   "source": []
  }
 ],
 "metadata": {
  "kernelspec": {
   "display_name": ".venv",
   "language": "python",
   "name": "python3"
  },
  "language_info": {
   "codemirror_mode": {
    "name": "ipython",
    "version": 3
   },
   "file_extension": ".py",
   "mimetype": "text/x-python",
   "name": "python",
   "nbconvert_exporter": "python",
   "pygments_lexer": "ipython3",
   "version": "3.10.9"
  }
 },
 "nbformat": 4,
 "nbformat_minor": 2
}
